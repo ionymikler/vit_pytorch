{
 "cells": [
  {
   "cell_type": "code",
   "execution_count": 1,
   "metadata": {},
   "outputs": [],
   "source": [
    "import torch\n",
    "import torch.nn as nn\n",
    "import torch.nn.functional as F"
   ]
  },
  {
   "cell_type": "code",
   "execution_count": 4,
   "metadata": {},
   "outputs": [],
   "source": [
    "class Net(nn.Module):\n",
    "    def __init__(self):\n",
    "        super().__init__()\n",
    "        self.input = nn.Linear(in_features=4, out_features=16)\n",
    "        self.hidden_1 = nn.Linear(in_features=16, out_features=16)\n",
    "        self.output = nn.Linear(in_features=16, out_features=3)\n",
    "        \n",
    "    def forward(self, x):\n",
    "        x = F.relu(self.input(x))\n",
    "        x = F.relu(self.hidden_1(x))\n",
    "    \n",
    "model = Net()"
   ]
  },
  {
   "cell_type": "code",
   "execution_count": null,
   "metadata": {},
   "outputs": [],
   "source": [
    "X = torch.rand(3, 4)\n",
    "Y = torch.rand(1, 3)\n",
    "print(X.shape)\n",
    "print(Y.shape)"
   ]
  },
  {
   "cell_type": "code",
   "execution_count": null,
   "metadata": {},
   "outputs": [],
   "source": [
    "from torchviz import make_dot\n",
    "\n",
    "model = Net()\n",
    "y = model(X)\n",
    "\n",
    "make_dot(y.mean(), params=dict(model.named_parameters()))"
   ]
  },
  {
   "cell_type": "code",
   "execution_count": null,
   "metadata": {},
   "outputs": [],
   "source": [
    "import os\n",
    "import torch\n",
    "import torch.nn as nn\n",
    "from datasets import load_dataset\n",
    "from transformers import get_scheduler\n",
    "\n",
    "##### Own\n",
    "import train_utils.cifar_utils as cifar_utils\n",
    "from train_utils import make_optimizer, get_cfg\n",
    "\n",
    "from vision_transformer import VisionTransformer\n",
    "from train_utils import cifar_utils"
   ]
  },
  {
   "cell_type": "code",
   "execution_count": 12,
   "metadata": {},
   "outputs": [],
   "source": [
    "cfg = get_cfg(\"config/vit_train.yml\")\n",
    "cfg[\"training\"][\"batch_size\"] = 1\n",
    "####### Dataset setup #######\n",
    "dataset_cfg = cfg[\"cifar_dataset\"]\n",
    "\n",
    "label2id, id2label = cifar_utils.get_label_dicts(dataset_cfg[\"label_type\"])\n",
    "\n",
    "train_dataloader, validation_dataloader, test_dataloader = cifar_utils.dataloaders_from_cfg(cfg)\n",
    "\n",
    "model = VisionTransformer(\n",
    "    image_size=cfg[\"cifar_dataset\"][\"image_size\"], use_linear_patch=True, num_classes=len(label2id.keys()))"
   ]
  },
  {
   "cell_type": "code",
   "execution_count": null,
   "metadata": {},
   "outputs": [],
   "source": [
    "# Passing single batch to model\n",
    "X = next(iter(train_dataloader))\n",
    "y = model(X[\"pixel_values\"])\n",
    "\n",
    "print(X[\"pixel_values\"].shape)\n",
    "print(y.shape)"
   ]
  },
  {
   "cell_type": "code",
   "execution_count": null,
   "metadata": {},
   "outputs": [],
   "source": [
    "# torchviz visualization\n",
    "make_dot(y.mean(), params=dict(model.named_parameters()))"
   ]
  },
  {
   "cell_type": "code",
   "execution_count": 22,
   "metadata": {},
   "outputs": [],
   "source": [
    "# onnx\n",
    "torch.onnx.export(model=model,args=X[\"pixel_values\"], f=\"model.onnx\", input_names=[\"input\"], output_names=[\"output\"])"
   ]
  }
 ],
 "metadata": {
  "kernelspec": {
   "display_name": "vit",
   "language": "python",
   "name": "python3"
  },
  "language_info": {
   "codemirror_mode": {
    "name": "ipython",
    "version": 3
   },
   "file_extension": ".py",
   "mimetype": "text/x-python",
   "name": "python",
   "nbconvert_exporter": "python",
   "pygments_lexer": "ipython3",
   "version": "3.11.10"
  }
 },
 "nbformat": 4,
 "nbformat_minor": 2
}
